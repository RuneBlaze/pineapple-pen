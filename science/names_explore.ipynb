{
 "cells": [
  {
   "cell_type": "code",
   "execution_count": 2,
   "id": "initial_id",
   "metadata": {
    "collapsed": true,
    "ExecuteTime": {
     "end_time": "2024-02-17T07:17:33.321292Z",
     "start_time": "2024-02-17T07:17:32.467877Z"
    }
   },
   "outputs": [],
   "source": [
    "import pandas as pd"
   ]
  },
  {
   "cell_type": "code",
   "outputs": [],
   "source": [
    "forenames = pd.read_csv(\"../assets/common-forenames-by-country.csv\")\n",
    "surnames = pd.read_csv(\"../assets/common-surnames-by-country.csv\")"
   ],
   "metadata": {
    "collapsed": false,
    "ExecuteTime": {
     "end_time": "2024-02-17T07:32:26.407949Z",
     "start_time": "2024-02-17T07:32:26.396170Z"
    }
   },
   "id": "97c7e7d44feb8f5d",
   "execution_count": 25
  },
  {
   "cell_type": "code",
   "outputs": [
    {
     "data": {
      "text/plain": "     Country Gender Romanized Name\n745       GB      F         Olivia\n746       GB      F         Amelia\n747       GB      F           Isla\n748       GB      F            Ava\n749       GB      F            Ivy\n...      ...    ...            ...\n2475      JP      F            Yua\n2476      JP      F            Mei\n2477      JP      F           Riko\n2478      JP      F         Sakura\n2479      JP      F            Ema\n\n[226 rows x 3 columns]",
      "text/html": "<div>\n<style scoped>\n    .dataframe tbody tr th:only-of-type {\n        vertical-align: middle;\n    }\n\n    .dataframe tbody tr th {\n        vertical-align: top;\n    }\n\n    .dataframe thead th {\n        text-align: right;\n    }\n</style>\n<table border=\"1\" class=\"dataframe\">\n  <thead>\n    <tr style=\"text-align: right;\">\n      <th></th>\n      <th>Country</th>\n      <th>Gender</th>\n      <th>Romanized Name</th>\n    </tr>\n  </thead>\n  <tbody>\n    <tr>\n      <th>745</th>\n      <td>GB</td>\n      <td>F</td>\n      <td>Olivia</td>\n    </tr>\n    <tr>\n      <th>746</th>\n      <td>GB</td>\n      <td>F</td>\n      <td>Amelia</td>\n    </tr>\n    <tr>\n      <th>747</th>\n      <td>GB</td>\n      <td>F</td>\n      <td>Isla</td>\n    </tr>\n    <tr>\n      <th>748</th>\n      <td>GB</td>\n      <td>F</td>\n      <td>Ava</td>\n    </tr>\n    <tr>\n      <th>749</th>\n      <td>GB</td>\n      <td>F</td>\n      <td>Ivy</td>\n    </tr>\n    <tr>\n      <th>...</th>\n      <td>...</td>\n      <td>...</td>\n      <td>...</td>\n    </tr>\n    <tr>\n      <th>2475</th>\n      <td>JP</td>\n      <td>F</td>\n      <td>Yua</td>\n    </tr>\n    <tr>\n      <th>2476</th>\n      <td>JP</td>\n      <td>F</td>\n      <td>Mei</td>\n    </tr>\n    <tr>\n      <th>2477</th>\n      <td>JP</td>\n      <td>F</td>\n      <td>Riko</td>\n    </tr>\n    <tr>\n      <th>2478</th>\n      <td>JP</td>\n      <td>F</td>\n      <td>Sakura</td>\n    </tr>\n    <tr>\n      <th>2479</th>\n      <td>JP</td>\n      <td>F</td>\n      <td>Ema</td>\n    </tr>\n  </tbody>\n</table>\n<p>226 rows × 3 columns</p>\n</div>"
     },
     "execution_count": 20,
     "metadata": {},
     "output_type": "execute_result"
    }
   ],
   "source": [
    "forenames[forenames.Country.isin([\"JP\",\"KR\",\"US\",\"CN\",\"TW\",\"GB\"])][[\"Country\", \"Gender\", \"Romanized Name\"]]"
   ],
   "metadata": {
    "collapsed": false,
    "ExecuteTime": {
     "end_time": "2024-02-17T07:21:04.373984Z",
     "start_time": "2024-02-17T07:21:04.367861Z"
    }
   },
   "id": "9eba011fb1cf258c",
   "execution_count": 20
  },
  {
   "cell_type": "code",
   "outputs": [
    {
     "data": {
      "text/plain": "     Country Gender Romanized Name\n2331      ME      F       Ljiljana\n1054      IM      F       Isabella\n1617      NZ      F         Amelia\n146       AU      F         Amelia\n1784      PT      F         Leonor\n...      ...    ...            ...\n1723      PK      F          Fozia\n2122      ZA      F       Iminathi\n154       AU      F         Willow\n1772      PR      M           Liam\n349       CA      M         Thomas\n\n[100 rows x 3 columns]",
      "text/html": "<div>\n<style scoped>\n    .dataframe tbody tr th:only-of-type {\n        vertical-align: middle;\n    }\n\n    .dataframe tbody tr th {\n        vertical-align: top;\n    }\n\n    .dataframe thead th {\n        text-align: right;\n    }\n</style>\n<table border=\"1\" class=\"dataframe\">\n  <thead>\n    <tr style=\"text-align: right;\">\n      <th></th>\n      <th>Country</th>\n      <th>Gender</th>\n      <th>Romanized Name</th>\n    </tr>\n  </thead>\n  <tbody>\n    <tr>\n      <th>2331</th>\n      <td>ME</td>\n      <td>F</td>\n      <td>Ljiljana</td>\n    </tr>\n    <tr>\n      <th>1054</th>\n      <td>IM</td>\n      <td>F</td>\n      <td>Isabella</td>\n    </tr>\n    <tr>\n      <th>1617</th>\n      <td>NZ</td>\n      <td>F</td>\n      <td>Amelia</td>\n    </tr>\n    <tr>\n      <th>146</th>\n      <td>AU</td>\n      <td>F</td>\n      <td>Amelia</td>\n    </tr>\n    <tr>\n      <th>1784</th>\n      <td>PT</td>\n      <td>F</td>\n      <td>Leonor</td>\n    </tr>\n    <tr>\n      <th>...</th>\n      <td>...</td>\n      <td>...</td>\n      <td>...</td>\n    </tr>\n    <tr>\n      <th>1723</th>\n      <td>PK</td>\n      <td>F</td>\n      <td>Fozia</td>\n    </tr>\n    <tr>\n      <th>2122</th>\n      <td>ZA</td>\n      <td>F</td>\n      <td>Iminathi</td>\n    </tr>\n    <tr>\n      <th>154</th>\n      <td>AU</td>\n      <td>F</td>\n      <td>Willow</td>\n    </tr>\n    <tr>\n      <th>1772</th>\n      <td>PR</td>\n      <td>M</td>\n      <td>Liam</td>\n    </tr>\n    <tr>\n      <th>349</th>\n      <td>CA</td>\n      <td>M</td>\n      <td>Thomas</td>\n    </tr>\n  </tbody>\n</table>\n<p>100 rows × 3 columns</p>\n</div>"
     },
     "execution_count": 23,
     "metadata": {},
     "output_type": "execute_result"
    }
   ],
   "source": [
    "forenames[~forenames.Country.isin([\"JP\",\"KR\",\"US\",\"CN\",\"TW\",\"GB\"])].sample(100)[[\"Country\", \"Gender\", \"Romanized Name\"]]"
   ],
   "metadata": {
    "collapsed": false,
    "ExecuteTime": {
     "end_time": "2024-02-17T07:24:09.096685Z",
     "start_time": "2024-02-17T07:24:09.088213Z"
    }
   },
   "id": "d1b9608ea26b421f",
   "execution_count": 23
  },
  {
   "cell_type": "code",
   "outputs": [],
   "source": [
    "from dataclasses import dataclass\n",
    "from typing import Literal\n",
    "from random import sample, choice\n",
    "\n",
    "@dataclass\n",
    "class NamePair:\n",
    "    first_name: str\n",
    "    last_name: str\n",
    "    origin: str\n",
    "    \n",
    "TAG_TRANSL = {\n",
    "    \"Oriental\": [\"JP\",\"KR\",\"CN\",\"TW\"],\n",
    "    \"Western\": [\"US\",\"GB\"],\n",
    "}\n",
    "\n",
    "class NameGenerator:\n",
    "    def __init__(self, forenames: pd.DataFrame, surnames: pd.DataFrame):\n",
    "        self.forenames = forenames\n",
    "        self.surnames = surnames\n",
    "    \n",
    "    def generate_name(self, gender: Literal[\"m\", \"f\"], tag: str) -> NamePair:\n",
    "        if possibilities := TAG_TRANSL.get(tag):\n",
    "            origin = choice(possibilities)\n",
    "        else:\n",
    "            origin = tag\n",
    "        \n",
    "        first_name_candidates = self.forenames[\n",
    "            (self.forenames.Country == origin) & (self.forenames.Gender == gender.upper())\n",
    "        ][\"Romanized Name\"].tolist()\n",
    "        \n",
    "        last_name_candidates = self.surnames[\n",
    "            self.surnames.Country == origin\n",
    "        ][\"Romanized Name\"].tolist()\n",
    "        \n",
    "        return NamePair(\n",
    "            first_name=choice(first_name_candidates),\n",
    "            last_name=choice(last_name_candidates),\n",
    "            origin=origin\n",
    "        )"
   ],
   "metadata": {
    "collapsed": false,
    "ExecuteTime": {
     "end_time": "2024-02-17T07:33:22.517584Z",
     "start_time": "2024-02-17T07:33:22.508308Z"
    }
   },
   "id": "3ebe1d5da59d31ed",
   "execution_count": 30
  },
  {
   "cell_type": "code",
   "outputs": [],
   "source": [
    "gen = NameGenerator(\n",
    "    forenames[forenames.Country.isin([\"JP\",\"KR\",\"US\",\"CN\",\"TW\",\"GB\"])][[\"Country\", \"Gender\", \"Romanized Name\"]],\n",
    "    surnames[surnames.Country.isin([\"JP\",\"KR\",\"US\",\"CN\",\"TW\",\"GB\"])][[\"Country\", \"Romanized Name\"]]\n",
    ")"
   ],
   "metadata": {
    "collapsed": false,
    "ExecuteTime": {
     "end_time": "2024-02-17T07:33:23.327916Z",
     "start_time": "2024-02-17T07:33:23.318029Z"
    }
   },
   "id": "b6fd0da8cd6e0801",
   "execution_count": 31
  },
  {
   "cell_type": "code",
   "outputs": [
    {
     "data": {
      "text/plain": "NamePair(first_name='Wen-Hsiung', last_name='Liu', origin='TW')"
     },
     "execution_count": 37,
     "metadata": {},
     "output_type": "execute_result"
    }
   ],
   "source": [
    "gen.generate_name(\"m\", \"Oriental\")"
   ],
   "metadata": {
    "collapsed": false,
    "ExecuteTime": {
     "end_time": "2024-02-17T07:33:30.537342Z",
     "start_time": "2024-02-17T07:33:30.532530Z"
    }
   },
   "id": "afd43cc7ac90e29",
   "execution_count": 37
  },
  {
   "cell_type": "code",
   "outputs": [],
   "source": [
    "import pickle as pkl"
   ],
   "metadata": {
    "collapsed": false,
    "ExecuteTime": {
     "end_time": "2024-02-17T07:34:01.793987Z",
     "start_time": "2024-02-17T07:34:01.787331Z"
    }
   },
   "id": "ba2ddca505069b7",
   "execution_count": 38
  },
  {
   "cell_type": "code",
   "outputs": [],
   "source": [
    "with open(\"../assets/name_generator.pkl\", \"wb\") as f:\n",
    "    pkl.dump(gen, f)"
   ],
   "metadata": {
    "collapsed": false,
    "ExecuteTime": {
     "end_time": "2024-02-17T07:34:05.724183Z",
     "start_time": "2024-02-17T07:34:05.716588Z"
    }
   },
   "id": "5b91f677595722e",
   "execution_count": 39
  },
  {
   "cell_type": "code",
   "outputs": [],
   "source": [],
   "metadata": {
    "collapsed": false
   },
   "id": "84a30cf8db2bed55"
  }
 ],
 "metadata": {
  "kernelspec": {
   "display_name": "Python 3",
   "language": "python",
   "name": "python3"
  },
  "language_info": {
   "codemirror_mode": {
    "name": "ipython",
    "version": 2
   },
   "file_extension": ".py",
   "mimetype": "text/x-python",
   "name": "python",
   "nbconvert_exporter": "python",
   "pygments_lexer": "ipython2",
   "version": "2.7.6"
  }
 },
 "nbformat": 4,
 "nbformat_minor": 5
}
